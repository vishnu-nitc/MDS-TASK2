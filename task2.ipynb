{
  "nbformat": 4,
  "nbformat_minor": 0,
  "metadata": {
    "colab": {
      "provenance": [],
      "authorship_tag": "ABX9TyOfEkX4xyuSaHgfq1C98bCD",
      "include_colab_link": true
    },
    "kernelspec": {
      "name": "python3",
      "display_name": "Python 3"
    },
    "language_info": {
      "name": "python"
    }
  },
  "cells": [
    {
      "cell_type": "markdown",
      "metadata": {
        "id": "view-in-github",
        "colab_type": "text"
      },
      "source": [
        "<a href=\"https://colab.research.google.com/github/vishnu-nitc/MDS-TASK2/blob/main/task2.ipynb\" target=\"_parent\"><img src=\"https://colab.research.google.com/assets/colab-badge.svg\" alt=\"Open In Colab\"/></a>"
      ]
    },
    {
      "cell_type": "code",
      "execution_count": 2,
      "metadata": {
        "colab": {
          "base_uri": "https://localhost:8080/"
        },
        "id": "2jhdIF5Cf9Nf",
        "outputId": "4910bc3e-f943-4c12-cd69-5c63d66fbe17"
      },
      "outputs": [
        {
          "output_type": "stream",
          "name": "stdout",
          "text": [
            "Collecting wget\n",
            "  Downloading wget-3.2.zip (10 kB)\n",
            "  Preparing metadata (setup.py) ... \u001b[?25l\u001b[?25hdone\n",
            "Building wheels for collected packages: wget\n",
            "  Building wheel for wget (setup.py) ... \u001b[?25l\u001b[?25hdone\n",
            "  Created wheel for wget: filename=wget-3.2-py3-none-any.whl size=9655 sha256=bf30c65e8ad4f5297c0bd5e786ce6088dee5f342cf0a92b69e704dd5136dcce0\n",
            "  Stored in directory: /root/.cache/pip/wheels/8b/f1/7f/5c94f0a7a505ca1c81cd1d9208ae2064675d97582078e6c769\n",
            "Successfully built wget\n",
            "Installing collected packages: wget\n",
            "Successfully installed wget-3.2\n"
          ]
        }
      ],
      "source": [
        "pip install wget"
      ]
    },
    {
      "cell_type": "code",
      "source": [
        "!wget https://github.com/tulip-lab/sit742/raw/develop/Jupyter/data/item_listing_category.zip"
      ],
      "metadata": {
        "colab": {
          "base_uri": "https://localhost:8080/"
        },
        "id": "p_7voL_kjeho",
        "outputId": "3b3b016a-b879-44ce-dd0a-f4150425392c"
      },
      "execution_count": 4,
      "outputs": [
        {
          "output_type": "stream",
          "name": "stdout",
          "text": [
            "--2023-09-26 06:03:46--  https://github.com/tulip-lab/sit742/raw/develop/Jupyter/data/item_listing_category.zip\n",
            "Resolving github.com (github.com)... 140.82.121.3\n",
            "Connecting to github.com (github.com)|140.82.121.3|:443... connected.\n",
            "HTTP request sent, awaiting response... 302 Found\n",
            "Location: https://raw.githubusercontent.com/tulip-lab/sit742/develop/Jupyter/data/item_listing_category.zip [following]\n",
            "--2023-09-26 06:03:46--  https://raw.githubusercontent.com/tulip-lab/sit742/develop/Jupyter/data/item_listing_category.zip\n",
            "Resolving raw.githubusercontent.com (raw.githubusercontent.com)... 185.199.108.133, 185.199.109.133, 185.199.110.133, ...\n",
            "Connecting to raw.githubusercontent.com (raw.githubusercontent.com)|185.199.108.133|:443... connected.\n",
            "HTTP request sent, awaiting response... 200 OK\n",
            "Length: 26084015 (25M) [application/zip]\n",
            "Saving to: ‘item_listing_category.zip.1’\n",
            "\n",
            "\r          item_list   0%[                    ]       0  --.-KB/s               \ritem_listing_catego 100%[===================>]  24.88M  --.-KB/s    in 0.08s   \n",
            "\n",
            "2023-09-26 06:03:46 (301 MB/s) - ‘item_listing_category.zip.1’ saved [26084015/26084015]\n",
            "\n"
          ]
        }
      ]
    },
    {
      "cell_type": "code",
      "source": [
        "!ls item_listing*"
      ],
      "metadata": {
        "id": "UACIg07mkDlD",
        "colab": {
          "base_uri": "https://localhost:8080/"
        },
        "outputId": "8f6c317c-ad86-4880-a864-ede8025f8f14"
      },
      "execution_count": 5,
      "outputs": [
        {
          "output_type": "stream",
          "name": "stdout",
          "text": [
            "item_listing_category.zip  item_listing_category.zip.1\n"
          ]
        }
      ]
    },
    {
      "cell_type": "code",
      "source": [
        "!unzip item_listing_category.zip"
      ],
      "metadata": {
        "colab": {
          "base_uri": "https://localhost:8080/"
        },
        "id": "XV4TWrMfjhFL",
        "outputId": "40e1d516-9194-4da5-c076-7c0753282c9b"
      },
      "execution_count": 6,
      "outputs": [
        {
          "output_type": "stream",
          "name": "stdout",
          "text": [
            "Archive:  item_listing_category.zip\n",
            "  inflating: item_listing_category.csv  \n"
          ]
        }
      ]
    },
    {
      "cell_type": "code",
      "source": [
        "!ls"
      ],
      "metadata": {
        "id": "B0rzr0cIjjrX",
        "colab": {
          "base_uri": "https://localhost:8080/"
        },
        "outputId": "fb9ae76f-708f-4bc5-e376-4dd5e6484875"
      },
      "execution_count": 7,
      "outputs": [
        {
          "output_type": "stream",
          "name": "stdout",
          "text": [
            "item_listing_category.csv  item_listing_category.zip.1\n",
            "item_listing_category.zip  sample_data\n"
          ]
        }
      ]
    },
    {
      "cell_type": "markdown",
      "source": [
        "Question 1.1\n",
        "\n",
        "Find the missing values:\n",
        "\n",
        "• Write the function missing_values_table and use the dataframe as the input. The function\n",
        "should return the information of missing values by column (only for columns which have\n",
        "missing values and the returned value should be the count of rows has missing values);\n",
        "\n",
        "• For columns which have missing values, could you impute the missing values with the\n",
        "mean value of the particular columns? (if you think it could not be done with mean value,\n",
        "write down the reason in comments and report rather than code)"
      ],
      "metadata": {
        "id": "y8_yL_-0naPH"
      }
    },
    {
      "cell_type": "code",
      "source": [
        "import pandas as pd\n"
      ],
      "metadata": {
        "id": "JURhTD7UnzLp"
      },
      "execution_count": 8,
      "outputs": []
    },
    {
      "cell_type": "code",
      "source": [
        "def missing_value_fn(df):\n",
        "  missing_series = df.isna().sum()\n",
        "  missing_columns = missing_series[missing_series.ne(0)]\n",
        "  return missing_columns"
      ],
      "metadata": {
        "id": "uCyBBQgHjyDR"
      },
      "execution_count": 9,
      "outputs": []
    },
    {
      "cell_type": "code",
      "source": [
        "df = pd.read_csv('item_listing_category.csv')"
      ],
      "metadata": {
        "id": "__W5LqqZnwVB"
      },
      "execution_count": 10,
      "outputs": []
    },
    {
      "cell_type": "code",
      "source": [
        "missing_value_fn(df)"
      ],
      "metadata": {
        "id": "ZZkrNC0Kn90g",
        "colab": {
          "base_uri": "https://localhost:8080/"
        },
        "outputId": "1f9a55e9-9b5e-4f5e-8333-52f27ea9755e"
      },
      "execution_count": 11,
      "outputs": [
        {
          "output_type": "execute_result",
          "data": {
            "text/plain": [
              "category_name          1539\n",
              "brand_name           151956\n",
              "clean_description       194\n",
              "dtype: int64"
            ]
          },
          "metadata": {},
          "execution_count": 11
        }
      ]
    },
    {
      "cell_type": "code",
      "source": [
        "df.info()"
      ],
      "metadata": {
        "id": "JL136A9koAdv",
        "colab": {
          "base_uri": "https://localhost:8080/"
        },
        "outputId": "09eaed60-003a-44c4-8800-e9d88e536dc0"
      },
      "execution_count": 12,
      "outputs": [
        {
          "output_type": "stream",
          "name": "stdout",
          "text": [
            "<class 'pandas.core.frame.DataFrame'>\n",
            "RangeIndex: 355808 entries, 0 to 355807\n",
            "Data columns (total 8 columns):\n",
            " #   Column             Non-Null Count   Dtype  \n",
            "---  ------             --------------   -----  \n",
            " 0   train_id           355808 non-null  int64  \n",
            " 1   name               355808 non-null  object \n",
            " 2   item_condition_id  355808 non-null  int64  \n",
            " 3   category_name      354269 non-null  object \n",
            " 4   brand_name         203852 non-null  object \n",
            " 5   price              355808 non-null  float64\n",
            " 6   shipping           355808 non-null  int64  \n",
            " 7   clean_description  355614 non-null  object \n",
            "dtypes: float64(1), int64(3), object(4)\n",
            "memory usage: 21.7+ MB\n"
          ]
        }
      ]
    },
    {
      "cell_type": "code",
      "source": [
        "df['category_name'].value_counts()"
      ],
      "metadata": {
        "id": "a5-eu-3RKCMA",
        "colab": {
          "base_uri": "https://localhost:8080/"
        },
        "outputId": "cdcf57a1-117a-4669-844a-100733e06fd1"
      },
      "execution_count": 13,
      "outputs": [
        {
          "output_type": "execute_result",
          "data": {
            "text/plain": [
              "Women/Athletic Apparel/Pants, Tights, Leggings    14336\n",
              "Women/Tops & Blouses/T-Shirts                     11187\n",
              "Beauty/Makeup/Face                                 8234\n",
              "Beauty/Makeup/Lips                                 7188\n",
              "Electronics/Video Games & Consoles/Games           6391\n",
              "                                                  ...  \n",
              "Handmade/Patterns/Handmade                            1\n",
              "Vintage & Collectibles/Serving/Glassware              1\n",
              "Handmade/Clothing/Dress                               1\n",
              "Handmade/Pets/Toy                                     1\n",
              "Handmade/Books and Zines/Comic                        1\n",
              "Name: category_name, Length: 1135, dtype: int64"
            ]
          },
          "metadata": {},
          "execution_count": 13
        }
      ]
    },
    {
      "cell_type": "code",
      "source": [
        "df['clean_description'].value_counts()"
      ],
      "metadata": {
        "id": "uEpCXFeyKM2p",
        "colab": {
          "base_uri": "https://localhost:8080/"
        },
        "outputId": "99f5aae7-a625-46e4-e393-406f55b059b1"
      },
      "execution_count": 14,
      "outputs": [
        {
          "output_type": "execute_result",
          "data": {
            "text/plain": [
              "description yet                                                                                                                                                                                                                                                                                 19868\n",
              "brand new                                                                                                                                                                                                                                                                                        1285\n",
              "new                                                                                                                                                                                                                                                                                              1281\n",
              "good condition                                                                                                                                                                                                                                                                                    687\n",
              "great condition                                                                                                                                                                                                                                                                                   567\n",
              "                                                                                                                                                                                                                                                                                                ...  \n",
              "extra dog size 51 100 pounds one good 2018 heartguard plus                                                                                                                                                                                                                                          1\n",
              "beautiful dress sash toe back                                                                                                                                                                                                                                                                       1\n",
              "ankle sock 1 pair color red 3 rows pink yellow free shipping high quality bundle save                                                                                                                                                                                                               1\n",
              "exfoliating soap face body formulated designed effectively cleanse brighten even tone skin providing resurfacing benefits gentle enough use daily unique formula formulated ingredients designed lighten protect skin topical antioxidants helps condition skin retain moisture level 7 0 oz        1\n",
              "couple places lace snagged tell fairly good condition yellow anywhere little blue shirt worn underwire straps detached back cross need clasps hooks perfect condition wires sticking broken add two shirts aj ayers ourchased                                                                       1\n",
              "Name: clean_description, Length: 267826, dtype: int64"
            ]
          },
          "metadata": {},
          "execution_count": 14
        }
      ]
    },
    {
      "cell_type": "code",
      "source": [
        "df['brand_name'].value_counts()"
      ],
      "metadata": {
        "id": "ZJT4PmAOMyQO",
        "colab": {
          "base_uri": "https://localhost:8080/"
        },
        "outputId": "e0a11e41-8e71-4212-a678-54c03a28a0f1"
      },
      "execution_count": 15,
      "outputs": [
        {
          "output_type": "execute_result",
          "data": {
            "text/plain": [
              "PINK                 13376\n",
              "Nike                 13182\n",
              "Victoria's Secret    11544\n",
              "LuLaRoe               7272\n",
              "Apple                 3962\n",
              "                     ...  \n",
              "Cotton Express           1\n",
              "Gold's Gym               1\n",
              "Audi                     1\n",
              "Alstyle Apparel          1\n",
              "Doncaster                1\n",
              "Name: brand_name, Length: 3046, dtype: int64"
            ]
          },
          "metadata": {},
          "execution_count": 15
        }
      ]
    },
    {
      "cell_type": "markdown",
      "source": [
        "columns of missing values are object type . Can be imputed by mode of available values . Since all are object type , we can't use mean"
      ],
      "metadata": {
        "id": "ppO50wm2NPGY"
      }
    },
    {
      "cell_type": "markdown",
      "source": [
        "Question 1.2\n",
        "\n",
        "Find the price information from the data:\n",
        "\n",
        "• Write code to print the median price of the items in the data;\n",
        "\n",
        "• What is the 90th percentile value on the price;\n",
        "\n",
        "• Draw the histogram chart for the price of the items in the data with 50 bins."
      ],
      "metadata": {
        "id": "gq6gRhsENxpO"
      }
    },
    {
      "cell_type": "code",
      "source": [
        "df.info()"
      ],
      "metadata": {
        "id": "Vo7wf6nbNCB3",
        "colab": {
          "base_uri": "https://localhost:8080/"
        },
        "outputId": "0f6a62aa-b953-4ed4-d1a8-81ce19f93d3d"
      },
      "execution_count": 16,
      "outputs": [
        {
          "output_type": "stream",
          "name": "stdout",
          "text": [
            "<class 'pandas.core.frame.DataFrame'>\n",
            "RangeIndex: 355808 entries, 0 to 355807\n",
            "Data columns (total 8 columns):\n",
            " #   Column             Non-Null Count   Dtype  \n",
            "---  ------             --------------   -----  \n",
            " 0   train_id           355808 non-null  int64  \n",
            " 1   name               355808 non-null  object \n",
            " 2   item_condition_id  355808 non-null  int64  \n",
            " 3   category_name      354269 non-null  object \n",
            " 4   brand_name         203852 non-null  object \n",
            " 5   price              355808 non-null  float64\n",
            " 6   shipping           355808 non-null  int64  \n",
            " 7   clean_description  355614 non-null  object \n",
            "dtypes: float64(1), int64(3), object(4)\n",
            "memory usage: 21.7+ MB\n"
          ]
        }
      ]
    },
    {
      "cell_type": "code",
      "source": [
        "df['price'].median()"
      ],
      "metadata": {
        "id": "ya0Vd9DaP3qr",
        "colab": {
          "base_uri": "https://localhost:8080/"
        },
        "outputId": "3b17b3d1-45c8-44f8-b6d0-89c5c519e9f7"
      },
      "execution_count": 17,
      "outputs": [
        {
          "output_type": "execute_result",
          "data": {
            "text/plain": [
              "17.0"
            ]
          },
          "metadata": {},
          "execution_count": 17
        }
      ]
    },
    {
      "cell_type": "code",
      "source": [
        "df['price'].quantile(.9)"
      ],
      "metadata": {
        "id": "W1ybOrz_QFER",
        "colab": {
          "base_uri": "https://localhost:8080/"
        },
        "outputId": "9e846d53-5293-4009-a0eb-ac1577ded6c9"
      },
      "execution_count": 18,
      "outputs": [
        {
          "output_type": "execute_result",
          "data": {
            "text/plain": [
              "51.0"
            ]
          },
          "metadata": {},
          "execution_count": 18
        }
      ]
    },
    {
      "cell_type": "code",
      "source": [
        "df['price'].hist(bins=50)\n"
      ],
      "metadata": {
        "id": "hgst2_hzQsNR",
        "colab": {
          "base_uri": "https://localhost:8080/",
          "height": 448
        },
        "outputId": "d2aedd50-74e1-4ffd-f99e-d8855d605efb"
      },
      "execution_count": 19,
      "outputs": [
        {
          "output_type": "execute_result",
          "data": {
            "text/plain": [
              "<Axes: >"
            ]
          },
          "metadata": {},
          "execution_count": 19
        },
        {
          "output_type": "display_data",
          "data": {
            "text/plain": [
              "<Figure size 640x480 with 1 Axes>"
            ],
            "image/png": "[encoded data removed]"
          },
          "metadata": {}
        }
      ]
    },
    {
      "cell_type": "code",
      "source": [],
      "metadata": {
        "id": "b-cFrE1RQ7O-"
      },
      "execution_count": null,
      "outputs": []
    },
    {
      "cell_type": "markdown",
      "source": [
        "Question 1.3\n",
        "\n",
        "Exploring the shipping information from the data:\n",
        "\n",
        "• Write code to find out the percentage of the items that are paid by the buyers.\n",
        "\n",
        "• Draw (two) histogram graphs in one plot on the price for seller pays shipping and buyer\n",
        "pays shipping (50 bins).\n",
        "\n",
        "• When buying the items online, do you need to pay higher price if seller pays for the\n",
        "shipping? Write the code to find out (Compare the median price of items paid by buyers\n",
        "and items paid by sellers, and explain the result in the comment and report).\n",
        "\n",
        "(Optional: You could use the subplot from EDA)"
      ],
      "metadata": {
        "id": "aUJhdLrnRW51"
      }
    },
    {
      "cell_type": "code",
      "source": [
        "df['shipping'].value_counts()"
      ],
      "metadata": {
        "id": "FEswAsLSRNY2",
        "colab": {
          "base_uri": "https://localhost:8080/"
        },
        "outputId": "fed2e168-3d52-470c-8dd3-d205ad594b90"
      },
      "execution_count": 20,
      "outputs": [
        {
          "output_type": "execute_result",
          "data": {
            "text/plain": [
              "0    197064\n",
              "1    158744\n",
              "Name: shipping, dtype: int64"
            ]
          },
          "metadata": {},
          "execution_count": 20
        }
      ]
    },
    {
      "cell_type": "markdown",
      "source": [
        "0 as Buyers\n",
        "1 as Sellers"
      ],
      "metadata": {
        "id": "U2-s_btuUwDN"
      }
    },
    {
      "cell_type": "code",
      "source": [
        "shiiping_series = df['shipping'].value_counts()\n"
      ],
      "metadata": {
        "id": "Rcoq6Vn8Sy4L"
      },
      "execution_count": 21,
      "outputs": []
    },
    {
      "cell_type": "code",
      "source": [
        "(shiiping_series[0] / (shiiping_series[0] + shiiping_series[1])) *100"
      ],
      "metadata": {
        "id": "pelHycTRS_DJ",
        "colab": {
          "base_uri": "https://localhost:8080/"
        },
        "outputId": "c53362db-fc15-458d-ea56-beb878aa6058"
      },
      "execution_count": 22,
      "outputs": [
        {
          "output_type": "execute_result",
          "data": {
            "text/plain": [
              "55.38492670204155"
            ]
          },
          "metadata": {},
          "execution_count": 22
        }
      ]
    },
    {
      "cell_type": "code",
      "source": [
        "import matplotlib.pyplot as plt"
      ],
      "metadata": {
        "id": "s7WbAMswTCXL"
      },
      "execution_count": 23,
      "outputs": []
    },
    {
      "cell_type": "code",
      "source": [
        "buyers_price = df[df['shipping']==0]['price']\n",
        "sellers_price = df[df['shipping']==1]['price']"
      ],
      "metadata": {
        "id": "WnU-w5qDWyOc"
      },
      "execution_count": 24,
      "outputs": []
    },
    {
      "cell_type": "code",
      "source": [
        "# plotting first histogram\n",
        "plt.hist(buyers_price, label='buyers price', bins=50, alpha=.3, color='red')\n",
        "\n",
        "# plotting second histogram\n",
        "plt.hist(sellers_price, label=\"sellers price\", bins=50, alpha=.2,\n",
        "         edgecolor='black', color='yellow')\n",
        "plt.legend()\n",
        "\n",
        "# Showing the plot using plt.show()\n",
        "plt.show()"
      ],
      "metadata": {
        "id": "Vlbt5KTWXKIv",
        "colab": {
          "base_uri": "https://localhost:8080/",
          "height": 430
        },
        "outputId": "2341bb36-dd97-4db0-8ceb-b8e6eb2a9c15"
      },
      "execution_count": 25,
      "outputs": [
        {
          "output_type": "display_data",
          "data": {
            "text/plain": [
              "<Figure size 640x480 with 1 Axes>"
            ],
            "image/png": "[encoded data removed]"
          },
          "metadata": {}
        }
      ]
    },
    {
      "cell_type": "code",
      "source": [
        "buyers_price_median = buyers_price.median()\n",
        "sellers_price_median = sellers_price.median()"
      ],
      "metadata": {
        "id": "TK6eiIX3YBTx"
      },
      "execution_count": 26,
      "outputs": []
    },
    {
      "cell_type": "code",
      "source": [
        "print(f'{buyers_price_median=}')\n",
        "print(f'{sellers_price_median=}')"
      ],
      "metadata": {
        "id": "EesKiV2rYg-U",
        "colab": {
          "base_uri": "https://localhost:8080/"
        },
        "outputId": "f30b0da2-f960-4026-b4d1-c5aabc3f2379"
      },
      "execution_count": 27,
      "outputs": [
        {
          "output_type": "stream",
          "name": "stdout",
          "text": [
            "buyers_price_median=19.0\n",
            "sellers_price_median=14.0\n"
          ]
        }
      ]
    },
    {
      "cell_type": "markdown",
      "source": [
        "Buyer is paying more than sellers"
      ],
      "metadata": {
        "id": "J22ssrgIYq1Y"
      }
    },
    {
      "cell_type": "markdown",
      "source": [
        "Question 1.4\n",
        "\n",
        "You are required to find out the item condition information from the data. Lower the number\n",
        "(value), the better condition of the item.\n",
        "\n",
        "• Write the code to find out (print) the count of the rows on each number (value) in column\n",
        "item_condition_id.\n",
        "\n",
        "• Draw the boxplot graphs (one plot) on the price for each item condition value, and find out\n",
        "out whether the better condition of the item could have higher median price (draw the plot\n",
        "and answer this question in the comment and report).\n"
      ],
      "metadata": {
        "id": "-P-ME3wDmVYm"
      }
    },
    {
      "cell_type": "code",
      "source": [
        "df['item_condition_id'].value_counts()"
      ],
      "metadata": {
        "id": "BRYi70u4YpNv",
        "colab": {
          "base_uri": "https://localhost:8080/"
        },
        "outputId": "484d7d85-93d5-4aa8-dda4-9a6c1da986f2"
      },
      "execution_count": 28,
      "outputs": [
        {
          "output_type": "execute_result",
          "data": {
            "text/plain": [
              "1    153402\n",
              "3    104248\n",
              "2     89843\n",
              "4      7768\n",
              "5       547\n",
              "Name: item_condition_id, dtype: int64"
            ]
          },
          "metadata": {},
          "execution_count": 28
        }
      ]
    },
    {
      "cell_type": "code",
      "source": [
        "import seaborn as sns"
      ],
      "metadata": {
        "id": "Eg6780bemqRj"
      },
      "execution_count": 29,
      "outputs": []
    },
    {
      "cell_type": "code",
      "source": [
        "plt.figure(figsize=(12, 24))\n",
        "colors = [\"#1f77b4\", \"#ff7f0e\", \"#2ca02c\", \"#d62728\", \"#9467bd\"]\n",
        "\n",
        "sns.boxplot(df , x='item_condition_id', y='price', palette=colors, medianprops={'color': 'black'})\n",
        "\n",
        "plt.show()"
      ],
      "metadata": {
        "id": "ecOOZA38n5QI",
        "colab": {
          "base_uri": "https://localhost:8080/",
          "height": 1000
        },
        "outputId": "6c50a735-e46e-4275-c6de-0d324f222a59"
      },
      "execution_count": 30,
      "outputs": [
        {
          "output_type": "display_data",
          "data": {
            "text/plain": [
              "<Figure size 1200x2400 with 1 Axes>"
            ],
            "image/png": "[encoded data removed]"
          },
          "metadata": {}
        }
      ]
    },
    {
      "cell_type": "code",
      "source": [
        "df.groupby('item_condition_id')['price'].median()"
      ],
      "metadata": {
        "id": "BdaTx4LDoEdO",
        "colab": {
          "base_uri": "https://localhost:8080/"
        },
        "outputId": "cea7565e-f96f-4e63-f971-659b31512722"
      },
      "execution_count": 31,
      "outputs": [
        {
          "output_type": "execute_result",
          "data": {
            "text/plain": [
              "item_condition_id\n",
              "1    18.0\n",
              "2    17.0\n",
              "3    16.0\n",
              "4    15.0\n",
              "5    19.0\n",
              "Name: price, dtype: float64"
            ]
          },
          "metadata": {},
          "execution_count": 31
        }
      ]
    },
    {
      "cell_type": "markdown",
      "source": [
        "Question 1.5\n",
        "\n",
        "Conduct the category analysis and find out the relevant information:\n",
        "\n",
        "\n",
        "• Write the code to find out (print) how many unique categories you could find from column\n",
        "category_name.\n",
        "\n",
        "• For the items with worst condition only (highest value from item_condition_id), write code\n",
        "to (print) find out the top 3 categories (now you probably understand the findings you had\n",
        "in Question 1.4)."
      ],
      "metadata": {
        "id": "M8IaZ5hw-rgw"
      }
    },
    {
      "cell_type": "code",
      "source": [
        "df['category_name'].value_counts()"
      ],
      "metadata": {
        "id": "WTKUZ6SIqWxn",
        "colab": {
          "base_uri": "https://localhost:8080/"
        },
        "outputId": "6e0ea6c8-3856-44ab-f376-2acf05cf37f3"
      },
      "execution_count": 32,
      "outputs": [
        {
          "output_type": "execute_result",
          "data": {
            "text/plain": [
              "Women/Athletic Apparel/Pants, Tights, Leggings    14336\n",
              "Women/Tops & Blouses/T-Shirts                     11187\n",
              "Beauty/Makeup/Face                                 8234\n",
              "Beauty/Makeup/Lips                                 7188\n",
              "Electronics/Video Games & Consoles/Games           6391\n",
              "                                                  ...  \n",
              "Handmade/Patterns/Handmade                            1\n",
              "Vintage & Collectibles/Serving/Glassware              1\n",
              "Handmade/Clothing/Dress                               1\n",
              "Handmade/Pets/Toy                                     1\n",
              "Handmade/Books and Zines/Comic                        1\n",
              "Name: category_name, Length: 1135, dtype: int64"
            ]
          },
          "metadata": {},
          "execution_count": 32
        }
      ]
    },
    {
      "cell_type": "code",
      "source": [
        "len(df['category_name'].value_counts())"
      ],
      "metadata": {
        "colab": {
          "base_uri": "https://localhost:8080/"
        },
        "id": "sfwP4TcJF6ID",
        "outputId": "9a993d4a-d17f-4cb3-d5b4-d061b07ebc55"
      },
      "execution_count": 33,
      "outputs": [
        {
          "output_type": "execute_result",
          "data": {
            "text/plain": [
              "1135"
            ]
          },
          "metadata": {},
          "execution_count": 33
        }
      ]
    },
    {
      "cell_type": "markdown",
      "source": [
        "There are 1135 category names are there"
      ],
      "metadata": {
        "id": "iDdwoa57GD-Y"
      }
    },
    {
      "cell_type": "code",
      "source": [
        "df[df['item_condition_id'] == 5]['category_name'].value_counts()[0:3]"
      ],
      "metadata": {
        "colab": {
          "base_uri": "https://localhost:8080/"
        },
        "id": "O4dx8aJuGB7C",
        "outputId": "c91ca726-9b37-467f-e680-21dabb89f96c"
      },
      "execution_count": 37,
      "outputs": [
        {
          "output_type": "execute_result",
          "data": {
            "text/plain": [
              "Electronics/Cell Phones & Accessories/Cell Phones & Smartphones    137\n",
              "Electronics/Video Games & Consoles/Games                            42\n",
              "Electronics/Video Games & Consoles/Consoles                         35\n",
              "Name: category_name, dtype: int64"
            ]
          },
          "metadata": {},
          "execution_count": 37
        }
      ]
    },
    {
      "cell_type": "code",
      "source": [],
      "metadata": {
        "id": "Z3dM2FyZGTaw"
      },
      "execution_count": null,
      "outputs": []
    }
  ]
}